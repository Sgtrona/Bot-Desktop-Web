{
 "cells": [
  {
   "cell_type": "code",
   "execution_count": 2,
   "id": "6227bb39",
   "metadata": {},
   "outputs": [
    {
     "ename": "KeyboardInterrupt",
     "evalue": "",
     "output_type": "error",
     "traceback": [
      "\u001b[1;31m---------------------------------------------------------------------------\u001b[0m",
      "\u001b[1;31mKeyboardInterrupt\u001b[0m                         Traceback (most recent call last)",
      "Cell \u001b[1;32mIn[2], line 31\u001b[0m\n\u001b[0;32m     29\u001b[0m pyautogui\u001b[38;5;241m.\u001b[39mwrite(\u001b[38;5;124m'\u001b[39m\u001b[38;5;124mgoogle\u001b[39m\u001b[38;5;124m'\u001b[39m)\n\u001b[0;32m     30\u001b[0m pyautogui\u001b[38;5;241m.\u001b[39mpress(\u001b[38;5;124m'\u001b[39m\u001b[38;5;124menter\u001b[39m\u001b[38;5;124m'\u001b[39m)\n\u001b[1;32m---> 31\u001b[0m \u001b[43mtime\u001b[49m\u001b[38;5;241;43m.\u001b[39;49m\u001b[43msleep\u001b[49m\u001b[43m(\u001b[49m\u001b[38;5;241;43m5\u001b[39;49m\u001b[43m)\u001b[49m\n\u001b[0;32m     32\u001b[0m pyautogui\u001b[38;5;241m.\u001b[39mclick(x\u001b[38;5;241m=\u001b[39m\u001b[38;5;241m494\u001b[39m,y\u001b[38;5;241m=\u001b[39m\u001b[38;5;241m53\u001b[39m)\n\u001b[0;32m     33\u001b[0m pyautogui\u001b[38;5;241m.\u001b[39mwrite(\u001b[38;5;124m\"\u001b[39m\u001b[38;5;124mhttps://www.google.com/intl/pt-BR/gmail/about/\u001b[39m\u001b[38;5;124m\"\u001b[39m)\n",
      "\u001b[1;31mKeyboardInterrupt\u001b[0m: "
     ]
    }
   ],
   "source": [
    "import pyautogui\n",
    "import time\n",
    "import pyexcel\n",
    "import pyperclip\n",
    "\n",
    "\n",
    "# abre o arquivo e extrai os dados, depois salva em uma variável\n",
    "pyautogui.PAUSE = 2.5\n",
    "data = pyexcel.get_array(file_name='C:/Users/luiz.lopes/Bot python desk + web/base_login.ods')\n",
    "\n",
    "\n",
    "pyautogui.press('win')\n",
    "pyautogui.write(r'C:\\Users\\luiz.lopes\\Bot python desk + web\\base_login')\n",
    "pyautogui.press('enter')\n",
    "time.sleep(5)\n",
    "pyautogui.click(342,194)\n",
    "login = data[0][1]\n",
    "time.sleep(1)\n",
    "pyautogui.click(273,224)\n",
    "senha = data[1][2]\n",
    "time.sleep(1)\n",
    "pyautogui.click(1892,5)\n",
    "\n",
    "\n",
    "\n",
    "# abre o goggle\n",
    "\n",
    "pyautogui.press('win')\n",
    "pyautogui.write('google')\n",
    "pyautogui.press('enter')\n",
    "time.sleep(5)\n",
    "pyautogui.click(x=494,y=53)\n",
    "pyautogui.write(\"https://www.google.com/intl/pt-BR/gmail/about/\")\n",
    "pyautogui.press('enter')\n",
    "pyautogui.click(x=1420,y=91)\n",
    "time.sleep(1)\n",
    "pyautogui.write(login)\n",
    "time.sleep(1)\n",
    "pyautogui.press('enter')\n",
    "time.sleep(1)\n",
    "pyautogui.write(senha)\n",
    "pyautogui.press('enter')\n",
    "time.sleep(5)\n",
    "pyautogui.click(x=83,y=171)\n",
    "pyautogui.write(\"lipison.f100@gmail.com\")\n",
    "pyautogui.press('tab')\n",
    "pyautogui.press('tab')\n",
    "pyautogui.write(\"Teste de E-mail em Python\")\n",
    "pyautogui.press('tab')\n",
    "mensagem = \"\"\"Olá, este e-mail trata-se de um teste de automação em Python \n",
    "\n",
    "Não se assuste, isto é só um teste\n",
    "\n",
    "Atenciosamente\n",
    "\n",
    "Luiz Felipe\"\"\"\n",
    "\n",
    "pyperclip.copy(mensagem)\n",
    "pyautogui.hotkey('ctrl','v')\n",
    "pyautogui.hotkey('ctrl','enter')\n",
    "pyautogui.click(x=1874,y=103)\n",
    "time.sleep(2)\n",
    "pyautogui.click(x=1765,y=363)\n",
    "pyautogui.click(x=1136,y=575)\n",
    "pyautogui.click(x=1133,y=502)\n",
    "pyautogui.click(x=1045,y=629)\n",
    "\n",
    "pyautogui.click(1892,5)"
   ]
  },
  {
   "cell_type": "code",
   "execution_count": 64,
   "id": "86593238",
   "metadata": {},
   "outputs": [
    {
     "data": {
      "text/plain": [
       "Point(x=590, y=1)"
      ]
     },
     "execution_count": 64,
     "metadata": {},
     "output_type": "execute_result"
    }
   ],
   "source": [
    "import time\n",
    "\n",
    "time.sleep(5)\n",
    "pyautogui.position()"
   ]
  },
  {
   "cell_type": "code",
   "execution_count": null,
   "id": "bdb8577e",
   "metadata": {},
   "outputs": [],
   "source": [
    "pip install pyexcel pyexcel-ods"
   ]
  },
  {
   "cell_type": "code",
   "execution_count": null,
   "id": "4cb37c7e",
   "metadata": {},
   "outputs": [],
   "source": []
  },
  {
   "cell_type": "code",
   "execution_count": null,
   "id": "2f0d924f",
   "metadata": {},
   "outputs": [],
   "source": [
    "import selenium"
   ]
  }
 ],
 "metadata": {
  "kernelspec": {
   "display_name": "Python 3 (ipykernel)",
   "language": "python",
   "name": "python3"
  },
  "language_info": {
   "codemirror_mode": {
    "name": "ipython",
    "version": 3
   },
   "file_extension": ".py",
   "mimetype": "text/x-python",
   "name": "python",
   "nbconvert_exporter": "python",
   "pygments_lexer": "ipython3",
   "version": "3.10.9"
  }
 },
 "nbformat": 4,
 "nbformat_minor": 5
}
